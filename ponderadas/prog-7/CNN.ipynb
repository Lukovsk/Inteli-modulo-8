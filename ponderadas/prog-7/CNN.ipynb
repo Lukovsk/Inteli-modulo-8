{
  "cells": [
    {
      "cell_type": "markdown",
      "metadata": {
        "colab_type": "text",
        "id": "view-in-github"
      },
      "source": [
        "<a href=\"https://colab.research.google.com/github/Lukovsk/Inteli-modulo-8/blob/main/ponderadas/prog-7/CNN.ipynb\" target=\"_parent\"><img src=\"https://colab.research.google.com/assets/colab-badge.svg\" alt=\"Open In Colab\"/></a>"
      ]
    },
    {
      "cell_type": "markdown",
      "metadata": {
        "id": "gOBLywR68ZNt"
      },
      "source": [
        "# Rede Neural Convolucional (CNN) com o dataset MNIST"
      ]
    },
    {
      "cell_type": "markdown",
      "metadata": {
        "id": "Zbx1tiiE8jAf"
      },
      "source": [
        "## Dependências\n",
        "- A bilioteca tensorflow instala todas as dependências necessárias para criar nossa CNN;\n",
        "- O numpy será usado para validar o conjunto de teste;\n",
        "- O matplotlib será utilizado para demonstrar a relação dos datasets graficamente."
      ]
    },
    {
      "cell_type": "code",
      "execution_count": null,
      "metadata": {
        "id": "WhhoKurUio3d"
      },
      "outputs": [],
      "source": [
        "!pip install --upgrade tensorflow"
      ]
    },
    {
      "cell_type": "code",
      "execution_count": null,
      "metadata": {
        "id": "gTwePXjDizfl"
      },
      "outputs": [],
      "source": [
        "import tensorflow as tf\n",
        "import matplotlib.pyplot as plt\n",
        "import numpy as np\n",
        "tf.__version__"
      ]
    },
    {
      "cell_type": "markdown",
      "metadata": {
        "id": "OHp4smSF93PP"
      },
      "source": [
        "## Análise do dataset MNIST"
      ]
    },
    {
      "cell_type": "code",
      "execution_count": null,
      "metadata": {
        "id": "pU14J4oSi28k"
      },
      "outputs": [],
      "source": [
        "mnist = tf.keras.datasets.mnist"
      ]
    },
    {
      "cell_type": "code",
      "execution_count": null,
      "metadata": {
        "id": "4dA78eB3OtVm"
      },
      "outputs": [],
      "source": [
        "(x_train, y_train), (x_test, y_test) = mnist.load_data()"
      ]
    },
    {
      "cell_type": "code",
      "execution_count": null,
      "metadata": {
        "id": "AHLgxsZ2O7Sw"
      },
      "outputs": [],
      "source": [
        "plt.imshow(x_train[0])\n",
        "plt.show()"
      ]
    },
    {
      "cell_type": "markdown",
      "metadata": {
        "id": "pnZ0gON1-Pk1"
      },
      "source": [
        "### Normalização do dataset"
      ]
    },
    {
      "cell_type": "code",
      "execution_count": null,
      "metadata": {
        "id": "NVByL5PHP022"
      },
      "outputs": [],
      "source": [
        "x_train = tf.keras.utils.normalize(x_train, axis=1)\n",
        "x_test = tf.keras.utils.normalize(x_test, axis=1)"
      ]
    },
    {
      "cell_type": "code",
      "execution_count": null,
      "metadata": {
        "id": "iZY4n0Bw_k1s"
      },
      "outputs": [],
      "source": [
        "plt.imshow(x_train[0])\n",
        "plt.show()"
      ]
    },
    {
      "cell_type": "markdown",
      "metadata": {
        "id": "BYz-O7uE-R2V"
      },
      "source": [
        "## Definição e treinamento do modelo\n",
        "1. **Flatten Layer**: Esta camada é responsável por transformar a imagem 28x28 em um vetor unidimensional de tamanho 784.\n",
        "\n",
        "2. **Dense Layer** (128 unidades, **ReLU**): Uma camada totalmente conectada com 128 unidades e ativação ReLU.\n",
        "\n",
        "3. **Dense Layer** (128 unidades, **ReLU**): Outra camada totalmente conectada com 128 unidades e ativação ReLU.\n",
        "\n",
        "4. **Dense Layer** (10 unidades, **Softmax**): Camada de saída com 10 unidades (correspondendo ao número de classes no MNIST) e ativação softmax, que é adequada para problemas de classificação multiclasse."
      ]
    },
    {
      "cell_type": "code",
      "execution_count": null,
      "metadata": {
        "id": "N03oqwUrQBHy"
      },
      "outputs": [],
      "source": [
        "model = tf.keras.models.Sequential()\n",
        "model.add(tf.keras.layers.Flatten())\n",
        "model.add(tf.keras.layers.Dense(128, activation=tf.nn.relu))\n",
        "model.add(tf.keras.layers.Dense(128, activation=tf.nn.relu))\n",
        "model.add(tf.keras.layers.Dense(10, activation=tf.nn.softmax))"
      ]
    },
    {
      "cell_type": "markdown",
      "metadata": {
        "id": "FPHt1YKd_uZ5"
      },
      "source": [
        "O otimizador utilizado é o 'adam', a função de perda é 'sparse_categorical_crossentropy' (apropriada para problemas de classificação quando os rótulos são inteiros), e a métrica de avaliação é 'accuracy'. O modelo é treinado com o conjunto de treinamento por 3 épocas."
      ]
    },
    {
      "cell_type": "code",
      "execution_count": null,
      "metadata": {
        "id": "ox-TqSSh_tDy"
      },
      "outputs": [],
      "source": [
        "model.compile(optimizer='adam',\n",
        "              loss='sparse_categorical_crossentropy',\n",
        "              metrics=['accuracy'])"
      ]
    },
    {
      "cell_type": "code",
      "execution_count": null,
      "metadata": {
        "id": "Ohq1oA5IQtGU"
      },
      "outputs": [],
      "source": [
        "model.fit(x_train, y_train, epochs=3)"
      ]
    },
    {
      "cell_type": "markdown",
      "metadata": {
        "id": "DOssDnPP_Zy5"
      },
      "source": [
        "## Avaliação do modelo"
      ]
    },
    {
      "cell_type": "code",
      "execution_count": null,
      "metadata": {
        "id": "hHBKut43QMfG"
      },
      "outputs": [],
      "source": [
        "val_loss, val_acc = model.evaluate(x_test, y_test)\n",
        "print(val_loss, val_acc)"
      ]
    },
    {
      "cell_type": "markdown",
      "metadata": {
        "id": "006lKr9KASnd"
      },
      "source": [
        "Como explicitado acima, é notória a acurácia de 97%."
      ]
    },
    {
      "cell_type": "code",
      "execution_count": null,
      "metadata": {
        "id": "NnU9SZifRHvG"
      },
      "outputs": [],
      "source": [
        "model.save('my_CNN.model')"
      ]
    },
    {
      "cell_type": "markdown",
      "metadata": {
        "id": "8DZfDU95_3Ll"
      },
      "source": [
        "## Utilizando o modelo"
      ]
    },
    {
      "cell_type": "code",
      "execution_count": null,
      "metadata": {
        "id": "TaaLonG4RKWc"
      },
      "outputs": [],
      "source": [
        "new_model = tf.keras.models.load_model('my_CNN.model')"
      ]
    },
    {
      "cell_type": "code",
      "execution_count": null,
      "metadata": {
        "id": "C2ByOn9MROGJ"
      },
      "outputs": [],
      "source": [
        "predictions = new_model.predict([x_test])"
      ]
    },
    {
      "cell_type": "code",
      "execution_count": null,
      "metadata": {
        "id": "X-kITCrZRXge"
      },
      "outputs": [],
      "source": [
        "print(predictions)"
      ]
    },
    {
      "cell_type": "code",
      "execution_count": null,
      "metadata": {
        "id": "AMm3YyxuRc35"
      },
      "outputs": [],
      "source": [
        "print(np.argmax(predictions[0]))"
      ]
    },
    {
      "cell_type": "code",
      "execution_count": null,
      "metadata": {
        "id": "JiRrT_xjRfpk"
      },
      "outputs": [],
      "source": [
        "plt.imshow(x_test[0])\n",
        "plt.show()"
      ]
    }
  ],
  "metadata": {
    "colab": {
      "authorship_tag": "ABX9TyMhBQe72+DBd3tg2SOF6pn2",
      "include_colab_link": true,
      "private_outputs": true,
      "provenance": []
    },
    "kernelspec": {
      "display_name": "Python 3",
      "name": "python3"
    },
    "language_info": {
      "name": "python",
      "version": "3.11.3"
    }
  },
  "nbformat": 4,
  "nbformat_minor": 0
}
