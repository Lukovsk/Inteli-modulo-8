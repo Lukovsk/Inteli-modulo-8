{
  "nbformat": 4,
  "nbformat_minor": 0,
  "metadata": {
    "colab": {
      "private_outputs": true,
      "provenance": [],
      "authorship_tag": "ABX9TyMhBQe72+DBd3tg2SOF6pn2",
      "include_colab_link": true
    },
    "kernelspec": {
      "name": "python3",
      "display_name": "Python 3"
    },
    "language_info": {
      "name": "python"
    }
  },
  "cells": [
    {
      "cell_type": "markdown",
      "metadata": {
        "id": "view-in-github",
        "colab_type": "text"
      },
      "source": [
        "<a href=\"https://colab.research.google.com/github/Lukovsk/Inteli-modulo-8/blob/main/ponderadas/prog-7/CNN.ipynb\" target=\"_parent\"><img src=\"https://colab.research.google.com/assets/colab-badge.svg\" alt=\"Open In Colab\"/></a>"
      ]
    },
    {
      "cell_type": "markdown",
      "source": [
        "# Rede Neural Convolucional (CNN) com o dataset MNIST"
      ],
      "metadata": {
        "id": "gOBLywR68ZNt"
      }
    },
    {
      "cell_type": "markdown",
      "source": [
        "## Dependências\n",
        "- A bilioteca tensorflow instala todas as dependências necessárias para criar nossa CNN;\n",
        "- O numpy será usado para validar o conjunto de teste;\n",
        "- O matplotlib será utilizado para demonstrar a relação dos datasets graficamente."
      ],
      "metadata": {
        "id": "Zbx1tiiE8jAf"
      }
    },
    {
      "cell_type": "code",
      "source": [
        "!pip install --upgrade tensorflow"
      ],
      "metadata": {
        "id": "WhhoKurUio3d"
      },
      "execution_count": null,
      "outputs": []
    },
    {
      "cell_type": "code",
      "source": [
        "import tensorflow as tf\n",
        "import matplotlib.pyplot as plt\n",
        "import numpy as np\n",
        "tf.__version__"
      ],
      "metadata": {
        "id": "gTwePXjDizfl"
      },
      "execution_count": null,
      "outputs": []
    },
    {
      "cell_type": "markdown",
      "source": [
        "## Análise do dataset MNIST"
      ],
      "metadata": {
        "id": "OHp4smSF93PP"
      }
    },
    {
      "cell_type": "code",
      "source": [
        "mnist = tf.keras.datasets.mnist"
      ],
      "metadata": {
        "id": "pU14J4oSi28k"
      },
      "execution_count": null,
      "outputs": []
    },
    {
      "cell_type": "code",
      "source": [
        "(x_train, y_train), (x_test, y_test) = mnist.load_data()"
      ],
      "metadata": {
        "id": "4dA78eB3OtVm"
      },
      "execution_count": null,
      "outputs": []
    },
    {
      "cell_type": "code",
      "source": [
        "plt.imshow(x_train[0])\n",
        "plt.show()"
      ],
      "metadata": {
        "id": "AHLgxsZ2O7Sw"
      },
      "execution_count": null,
      "outputs": []
    },
    {
      "cell_type": "markdown",
      "source": [
        "### Normalização do dataset"
      ],
      "metadata": {
        "id": "pnZ0gON1-Pk1"
      }
    },
    {
      "cell_type": "code",
      "source": [
        "x_train = tf.keras.utils.normalize(x_train, axis=1)\n",
        "x_test = tf.keras.utils.normalize(x_test, axis=1)"
      ],
      "metadata": {
        "id": "NVByL5PHP022"
      },
      "execution_count": null,
      "outputs": []
    },
    {
      "cell_type": "code",
      "source": [
        "plt.imshow(x_train[0])\n",
        "plt.show()"
      ],
      "metadata": {
        "id": "iZY4n0Bw_k1s"
      },
      "execution_count": null,
      "outputs": []
    },
    {
      "cell_type": "markdown",
      "source": [
        "## Definição e treinamento do modelo\n",
        "1. **Flatten Layer**: Esta camada é responsável por transformar a imagem 28x28 em um vetor unidimensional de tamanho 784.\n",
        "\n",
        "2. **Dense Layer** (128 unidades, **ReLU**): Uma camada totalmente conectada com 128 unidades e ativação ReLU.\n",
        "\n",
        "3. **Dense Layer** (128 unidades, **ReLU**): Outra camada totalmente conectada com 128 unidades e ativação ReLU.\n",
        "\n",
        "4. **Dense Layer** (10 unidades, **Softmax**): Camada de saída com 10 unidades (correspondendo ao número de classes no MNIST) e ativação softmax, que é adequada para problemas de classificação multiclasse."
      ],
      "metadata": {
        "id": "BYz-O7uE-R2V"
      }
    },
    {
      "cell_type": "code",
      "source": [
        "model = tf.keras.models.Sequential()\n",
        "model.add(tf.keras.layers.Flatten())\n",
        "model.add(tf.keras.layers.Dense(128, activation=tf.nn.relu))\n",
        "model.add(tf.keras.layers.Dense(128, activation=tf.nn.relu))\n",
        "model.add(tf.keras.layers.Dense(10, activation=tf.nn.softmax))"
      ],
      "metadata": {
        "id": "N03oqwUrQBHy"
      },
      "execution_count": null,
      "outputs": []
    },
    {
      "cell_type": "markdown",
      "source": [
        "O otimizador utilizado é o 'adam', a função de perda é 'sparse_categorical_crossentropy' (apropriada para problemas de classificação quando os rótulos são inteiros), e a métrica de avaliação é 'accuracy'. O modelo é treinado com o conjunto de treinamento por 3 épocas."
      ],
      "metadata": {
        "id": "FPHt1YKd_uZ5"
      }
    },
    {
      "cell_type": "code",
      "source": [
        "model.compile(optimizer='adam',\n",
        "              loss='sparse_categorical_crossentropy',\n",
        "              metrics=['accuracy'])"
      ],
      "metadata": {
        "id": "ox-TqSSh_tDy"
      },
      "execution_count": null,
      "outputs": []
    },
    {
      "cell_type": "code",
      "source": [
        "model.fit(x_train, y_train, epochs=3)"
      ],
      "metadata": {
        "id": "Ohq1oA5IQtGU"
      },
      "execution_count": null,
      "outputs": []
    },
    {
      "cell_type": "markdown",
      "source": [
        "## Avaliação do modelo"
      ],
      "metadata": {
        "id": "DOssDnPP_Zy5"
      }
    },
    {
      "cell_type": "code",
      "source": [
        "val_loss, val_acc = model.evaluate(x_test, y_test)\n",
        "print(val_loss, val_acc)"
      ],
      "metadata": {
        "id": "hHBKut43QMfG"
      },
      "execution_count": null,
      "outputs": []
    },
    {
      "cell_type": "markdown",
      "source": [
        "Como explicitado acima, é notória a acurácia de 97%."
      ],
      "metadata": {
        "id": "006lKr9KASnd"
      }
    },
    {
      "cell_type": "code",
      "source": [
        "model.save('my_CNN.model')"
      ],
      "metadata": {
        "id": "NnU9SZifRHvG"
      },
      "execution_count": null,
      "outputs": []
    },
    {
      "cell_type": "markdown",
      "source": [
        "## Utilizando o modelo"
      ],
      "metadata": {
        "id": "8DZfDU95_3Ll"
      }
    },
    {
      "cell_type": "code",
      "source": [
        "new_model = tf.keras.models.load_model('my_CNN.model')"
      ],
      "metadata": {
        "id": "TaaLonG4RKWc"
      },
      "execution_count": null,
      "outputs": []
    },
    {
      "cell_type": "code",
      "source": [
        "predictions = new_model.predict([x_test])"
      ],
      "metadata": {
        "id": "C2ByOn9MROGJ"
      },
      "execution_count": null,
      "outputs": []
    },
    {
      "cell_type": "code",
      "source": [
        "print(predictions)"
      ],
      "metadata": {
        "id": "X-kITCrZRXge"
      },
      "execution_count": null,
      "outputs": []
    },
    {
      "cell_type": "code",
      "source": [
        "print(np.argmax(predictions[0]))"
      ],
      "metadata": {
        "id": "AMm3YyxuRc35"
      },
      "execution_count": null,
      "outputs": []
    },
    {
      "cell_type": "code",
      "source": [
        "plt.imshow(x_test[0])\n",
        "plt.show()"
      ],
      "metadata": {
        "id": "JiRrT_xjRfpk"
      },
      "execution_count": null,
      "outputs": []
    }
  ]
}