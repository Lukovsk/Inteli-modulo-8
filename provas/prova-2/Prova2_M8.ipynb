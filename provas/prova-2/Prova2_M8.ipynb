{
  "nbformat": 4,
  "nbformat_minor": 0,
  "metadata": {
    "colab": {
      "private_outputs": true,
      "provenance": [],
      "authorship_tag": "ABX9TyOOWscRUoCBvKu0zk2c9JZY",
      "include_colab_link": true
    },
    "kernelspec": {
      "name": "python3",
      "display_name": "Python 3"
    },
    "language_info": {
      "name": "python"
    }
  },
  "cells": [
    {
      "cell_type": "markdown",
      "metadata": {
        "id": "view-in-github",
        "colab_type": "text"
      },
      "source": [
        "<a href=\"https://colab.research.google.com/github/Lukovsk/Inteli-modulo-8/blob/main/provas/prova-2/Prova2_M8.ipynb\" target=\"_parent\"><img src=\"https://colab.research.google.com/assets/colab-badge.svg\" alt=\"Open In Colab\"/></a>"
      ]
    },
    {
      "cell_type": "code",
      "execution_count": null,
      "metadata": {
        "id": "UDIyWTsy3jRD"
      },
      "outputs": [],
      "source": [
        "# !pip install gTTS\n",
        "# !pip install playsound\n",
        "# !pip install gradio\n",
        "# !pip install txtai[pipeline-audio] soundfile\n",
        "# !pip install simpleaudio"
      ]
    },
    {
      "cell_type": "code",
      "source": [
        "from gtts import gTTS\n",
        "import playsound\n",
        "import gradio as gr\n",
        "import soundfile as sf\n",
        "import simpleaudio as sa\n",
        "from txtai.pipeline import TextToSpeech\n",
        "import os"
      ],
      "metadata": {
        "id": "VfzdGwhf354G"
      },
      "execution_count": null,
      "outputs": []
    },
    {
      "cell_type": "code",
      "source": [
        "# Build pipeline\n",
        "tts = TextToSpeech(\"NeuML/ljspeech-jets-onnx\")"
      ],
      "metadata": {
        "id": "UTL264vg-bI6"
      },
      "execution_count": null,
      "outputs": []
    },
    {
      "cell_type": "code",
      "source": [
        "def reprodutor(Fala):\n",
        "    speech = tts(Fala)\n",
        "\n",
        "    sf.write(\"./out.wav\", speech, 22050)\n",
        "\n",
        "    wave_obj = sa.WaveObject.from_wave_file(\"./out.wav\")\n",
        "\n",
        "    print(wave_obj)\n",
        "\n",
        "    play_obj = wave_obj.play()\n",
        "    play_obj.wait_done()\n",
        "\n",
        "\n",
        "    return wave_obj"
      ],
      "metadata": {
        "id": "YTh4GdRZ4kbx"
      },
      "execution_count": null,
      "outputs": []
    },
    {
      "cell_type": "code",
      "source": [
        "reprodutor(\"Sim é isso mesmo\")"
      ],
      "metadata": {
        "id": "7QWud5K5_kwu"
      },
      "execution_count": null,
      "outputs": []
    },
    {
      "cell_type": "code",
      "source": [
        "def main():\n",
        "    iface = gr.Interface(\n",
        "        fn=reprodutor,\n",
        "        inputs=\"text\",\n",
        "        outputs=\"text\",\n",
        "        live=True,\n",
        "        title=\"Bem-vindo ao reprodutor de voz!\",\n",
        "        description=\"Eu falarei o que você escrever!\"\n",
        "    )\n",
        "    iface.launch(debug=True)\n"
      ],
      "metadata": {
        "id": "8mkRC_LJ4pHc"
      },
      "execution_count": null,
      "outputs": []
    },
    {
      "cell_type": "code",
      "source": [
        "main()"
      ],
      "metadata": {
        "id": "RXvUmUI24rn8"
      },
      "execution_count": null,
      "outputs": []
    }
  ]
}